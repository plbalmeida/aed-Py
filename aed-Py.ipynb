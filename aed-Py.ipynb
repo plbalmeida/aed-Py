{
 "cells": [
  {
   "cell_type": "markdown",
   "metadata": {},
   "source": [
    "## Análise exploratória de dados com Python\n",
    "\n",
    "Como podemos conseguir insights iniciais em um projeto de Data Science? Isso é possível com a Análise Exploratória de Dados! A análise exploratória de dados é uma das etapas do workflow de Data Science, é processo no qual explora os conjuntos de dados, responde perguntas e gera visualizações dos dados com o objetivo de guiar a tomada de decisão."
   ]
  },
  {
   "cell_type": "markdown",
   "metadata": {},
   "source": [
    "![](Data_visualization_process_v1.png)"
   ]
  },
  {
   "cell_type": "markdown",
   "metadata": {},
   "source": [
    "A seguir apresentarei as ferramentas necessárias para limpar e validar os dados, visualizar distribuições assim como usar modelos de regressão para prever e explicar relações entre os dados. Explorarei dados de demografia e saúde, porém as técnicas empregadas nesse jupyter notebook aplicam-se a todas as áreas da ciência, engenharia e negócios. Usarei o Pandas, um módulo poderoso para trabalhar com dados, assim como usarei outros módulos importantes do Python, incluindo o NumPy e o SciPy, o StatsModels será usado para regressão e o Matplotlib para gerar visualizações. Com essas ferramentas e habilidades, é possível trabalhar com dados reais, fazer descobertas e apresentar resultados interessantes sobre os dados.\n",
    "\n",
    "### 1) Carregando, limpando e validando os dados no python\n",
    "\n",
    "Possivelmente a primeira etapa de quase todos os projetos de data science é carregar os dados, verificar erros, casos especiais e preparar os dados para análise. \n",
    "\n",
    "Isso é exatamente o que farei nessa parte do código trabalhando com um conjunto de dados obtido da \"National Survey of Family Growth (NSFG)\" da \"National Center of Health Statistics\" (https://www.cdc.gov/nchs/nsfg/index.htm). Esse conjunto de dados possui uma amostra representativa de mulheres e seus filhos dos EUA entre 2013 e 2015, no qual cada observação possui dados da gestação de cada mulher.\n",
    "\n",
    "#### 1.1) Dicionário dos dados\n",
    "\n",
    "Quando trabalhamos com conjuntos de dados como o do NSFG, é importante ler a documentação dos dados cuidadosamente. No caso de não haver um dicionário dos dados, será necessário criá-lo antes de iniciar essa etapa do projeto, mas não necessariamente nos moldes do NSFG, pode ser uma tabela simples, onde a primeira coluna é o id da variável, a segunda coluna a variável, e a terceira coluna a descrição dessa variável. O dicionário de dados permite interpretarmos uma variável corretamente, evitando gerar gerar resultados sem sentido. \n",
    "\n",
    "O dicionário de dados do NSFG está no seguinte link: https://www.icpsr.umich.edu/icpsradmin/nsfg/index?studyNumber=9999. Como exemplo, para acessarmos as informações da variável \"BIRTHWGT_OZ1\" é necessário digitar no campo de pesquisa \"birthweight\", desligue a caixa de seleção que diz \"Search variable name only\" e pressione \"Search\". Você deve ver uma lista de variáveis relacionadas ao peso ao nascer (\"birthweight\"). Feito isso é possível verificar o número de respondentes que reponderam a pesquisa, quantos não etc...\n",
    "\n",
    "#### 1.2) Explorando os dados do NSFG\n",
    "\n",
    "Para obter o número de linhas e colunas em um data frame é só usar o atributo \"shape\". E para obter os nomes das colunas é necessário usar o atributo \"columns\", o resultado será um Index, que é uma estrutura de dados do Pandas semelhante a uma lista. \n",
    "\n",
    "Vamos começar a explorar os dados do NSFG!"
   ]
  },
  {
   "cell_type": "code",
   "execution_count": 1,
   "metadata": {},
   "outputs": [
    {
     "data": {
      "text/plain": [
       "(9358, 10)"
      ]
     },
     "execution_count": 1,
     "metadata": {},
     "output_type": "execute_result"
    }
   ],
   "source": [
    "# pacotes necessário\n",
    "import pandas as pd\n",
    "import seaborn as sns; sns.set(style=\"ticks\", color_codes=True)\n",
    "\n",
    "# carregando os dados no formato hdf5\n",
    "nsfg = pd.read_hdf('nsfg.hdf5')\n",
    "\n",
    "# verificando o número de obervações e colunas\n",
    "nsfg.shape"
   ]
  },
  {
   "cell_type": "code",
   "execution_count": 2,
   "metadata": {},
   "outputs": [
    {
     "data": {
      "text/html": [
       "<div>\n",
       "<style scoped>\n",
       "    .dataframe tbody tr th:only-of-type {\n",
       "        vertical-align: middle;\n",
       "    }\n",
       "\n",
       "    .dataframe tbody tr th {\n",
       "        vertical-align: top;\n",
       "    }\n",
       "\n",
       "    .dataframe thead th {\n",
       "        text-align: right;\n",
       "    }\n",
       "</style>\n",
       "<table border=\"1\" class=\"dataframe\">\n",
       "  <thead>\n",
       "    <tr style=\"text-align: right;\">\n",
       "      <th></th>\n",
       "      <th>caseid</th>\n",
       "      <th>outcome</th>\n",
       "      <th>birthwgt_lb1</th>\n",
       "      <th>birthwgt_oz1</th>\n",
       "      <th>prglngth</th>\n",
       "      <th>nbrnaliv</th>\n",
       "      <th>agecon</th>\n",
       "      <th>agepreg</th>\n",
       "      <th>hpagelb</th>\n",
       "      <th>wgt2013_2015</th>\n",
       "    </tr>\n",
       "  </thead>\n",
       "  <tbody>\n",
       "    <tr>\n",
       "      <th>0</th>\n",
       "      <td>60418</td>\n",
       "      <td>1</td>\n",
       "      <td>5.0</td>\n",
       "      <td>4.0</td>\n",
       "      <td>40</td>\n",
       "      <td>1.0</td>\n",
       "      <td>2000</td>\n",
       "      <td>2075.0</td>\n",
       "      <td>22.0</td>\n",
       "      <td>3554.964843</td>\n",
       "    </tr>\n",
       "    <tr>\n",
       "      <th>1</th>\n",
       "      <td>60418</td>\n",
       "      <td>1</td>\n",
       "      <td>4.0</td>\n",
       "      <td>12.0</td>\n",
       "      <td>36</td>\n",
       "      <td>1.0</td>\n",
       "      <td>2291</td>\n",
       "      <td>2358.0</td>\n",
       "      <td>25.0</td>\n",
       "      <td>3554.964843</td>\n",
       "    </tr>\n",
       "    <tr>\n",
       "      <th>2</th>\n",
       "      <td>60418</td>\n",
       "      <td>1</td>\n",
       "      <td>5.0</td>\n",
       "      <td>4.0</td>\n",
       "      <td>36</td>\n",
       "      <td>1.0</td>\n",
       "      <td>3241</td>\n",
       "      <td>3308.0</td>\n",
       "      <td>52.0</td>\n",
       "      <td>3554.964843</td>\n",
       "    </tr>\n",
       "    <tr>\n",
       "      <th>3</th>\n",
       "      <td>60419</td>\n",
       "      <td>6</td>\n",
       "      <td>NaN</td>\n",
       "      <td>NaN</td>\n",
       "      <td>33</td>\n",
       "      <td>NaN</td>\n",
       "      <td>3650</td>\n",
       "      <td>NaN</td>\n",
       "      <td>NaN</td>\n",
       "      <td>2484.535358</td>\n",
       "    </tr>\n",
       "    <tr>\n",
       "      <th>4</th>\n",
       "      <td>60420</td>\n",
       "      <td>1</td>\n",
       "      <td>8.0</td>\n",
       "      <td>13.0</td>\n",
       "      <td>41</td>\n",
       "      <td>1.0</td>\n",
       "      <td>2191</td>\n",
       "      <td>2266.0</td>\n",
       "      <td>24.0</td>\n",
       "      <td>2903.782914</td>\n",
       "    </tr>\n",
       "  </tbody>\n",
       "</table>\n",
       "</div>"
      ],
      "text/plain": [
       "   caseid  outcome  birthwgt_lb1  birthwgt_oz1  prglngth  nbrnaliv  agecon  \\\n",
       "0   60418        1           5.0           4.0        40       1.0    2000   \n",
       "1   60418        1           4.0          12.0        36       1.0    2291   \n",
       "2   60418        1           5.0           4.0        36       1.0    3241   \n",
       "3   60419        6           NaN           NaN        33       NaN    3650   \n",
       "4   60420        1           8.0          13.0        41       1.0    2191   \n",
       "\n",
       "   agepreg  hpagelb  wgt2013_2015  \n",
       "0   2075.0     22.0   3554.964843  \n",
       "1   2358.0     25.0   3554.964843  \n",
       "2   3308.0     52.0   3554.964843  \n",
       "3      NaN      NaN   2484.535358  \n",
       "4   2266.0     24.0   2903.782914  "
      ]
     },
     "execution_count": 2,
     "metadata": {},
     "output_type": "execute_result"
    }
   ],
   "source": [
    "# visualizando as primeiras observações\n",
    "nsfg.head()"
   ]
  },
  {
   "cell_type": "code",
   "execution_count": 3,
   "metadata": {},
   "outputs": [
    {
     "data": {
      "text/plain": [
       "Index(['caseid', 'outcome', 'birthwgt_lb1', 'birthwgt_oz1', 'prglngth',\n",
       "       'nbrnaliv', 'agecon', 'agepreg', 'hpagelb', 'wgt2013_2015'],\n",
       "      dtype='object')"
      ]
     },
     "execution_count": 3,
     "metadata": {},
     "output_type": "execute_result"
    }
   ],
   "source": [
    "# visualizando as variáveis\n",
    "nsfg.columns"
   ]
  },
  {
   "cell_type": "code",
   "execution_count": 4,
   "metadata": {},
   "outputs": [
    {
     "data": {
      "text/plain": [
       "caseid            int64\n",
       "outcome           int64\n",
       "birthwgt_lb1    float64\n",
       "birthwgt_oz1    float64\n",
       "prglngth          int64\n",
       "nbrnaliv        float64\n",
       "agecon            int64\n",
       "agepreg         float64\n",
       "hpagelb         float64\n",
       "wgt2013_2015    float64\n",
       "dtype: object"
      ]
     },
     "execution_count": 4,
     "metadata": {},
     "output_type": "execute_result"
    }
   ],
   "source": [
    "# verificando o tipo das variáveis\n",
    "nsfg.dtypes"
   ]
  },
  {
   "cell_type": "markdown",
   "metadata": {},
   "source": [
    "#### 1.3) Validando uma variável\n",
    "\n",
    "No conjunto de dados do NSFG, a variável \"outcome\" codifica o resultado de cada gravidez, conforme mostrado abaixo:\n",
    "\n",
    "|valor  | label |\n",
    "|--|--|\n",
    "|1|Live birth|\n",
    "|2|Induced abortion|\n",
    "|3|Stillbirth|\n",
    "|4|Miscarriage|\n",
    "|5|Ectopic pregnancy|\n",
    "|6|Current pregnancy|\n",
    "\n",
    "Dado isso, como podemos responder a seguinte pergunta: Quantas gravidezes neste conjunto de dados terminaram com o bebê vivo (label = \"Live birth\")?"
   ]
  },
  {
   "cell_type": "code",
   "execution_count": 5,
   "metadata": {
    "scrolled": false
   },
   "outputs": [
    {
     "data": {
      "text/plain": [
       "1    6489\n",
       "4    1469\n",
       "2     947\n",
       "6     249\n",
       "5     118\n",
       "3      86\n",
       "Name: outcome, dtype: int64"
      ]
     },
     "execution_count": 5,
     "metadata": {},
     "output_type": "execute_result"
    }
   ],
   "source": [
    "# usando a função describe para contar occorrências por valor \n",
    "nsfg['outcome'].value_counts()"
   ]
  },
  {
   "cell_type": "markdown",
   "metadata": {},
   "source": [
    "#### 1.4) Limpando uma variável\n",
    "\n",
    "No conjunto de dados do NSFG, a variável \"nbrnaliv\" registra o número de bebês nascidos vivos no final da gravidez.\n",
    "\n",
    "Se você usar .value_counts() para ver as respostas, verá que o valor 8 aparece uma vez, se você consultar o dicionário de dados do conjunto de dados, verá que esse valor indica que o respondente se recusou a responder a pergunta.\n",
    "\n",
    "O trabalho aqui é substituir esse valor por np.nan usando o .replace()."
   ]
  },
  {
   "cell_type": "code",
   "execution_count": 6,
   "metadata": {},
   "outputs": [
    {
     "data": {
      "text/plain": [
       "1.0    6379\n",
       "2.0     100\n",
       "3.0       5\n",
       "8.0       1\n",
       "Name: nbrnaliv, dtype: int64"
      ]
     },
     "execution_count": 6,
     "metadata": {},
     "output_type": "execute_result"
    }
   ],
   "source": [
    "# visualizando a frequência dos valores\n",
    "nsfg['nbrnaliv'].value_counts()"
   ]
  },
  {
   "cell_type": "code",
   "execution_count": 7,
   "metadata": {},
   "outputs": [
    {
     "name": "stdout",
     "output_type": "stream",
     "text": [
      "1.0    6379\n",
      "2.0     100\n",
      "3.0       5\n",
      "Name: nbrnaliv, dtype: int64\n"
     ]
    }
   ],
   "source": [
    "# módulo necessário\n",
    "import numpy as np\n",
    "\n",
    "# substituindo o valor 8 com NaN\n",
    "nsfg['nbrnaliv'].replace([8], np.nan, inplace=True)\n",
    "\n",
    "# visualizando a frequência dos valores\n",
    "print(nsfg['nbrnaliv'].value_counts())"
   ]
  },
  {
   "cell_type": "markdown",
   "metadata": {},
   "source": [
    "Sendo cuidadoso com esse tipo de limpeza e validação, economizará tempo e evitará erros potencialmente sérios."
   ]
  },
  {
   "cell_type": "markdown",
   "metadata": {},
   "source": [
    "#### 1.5) Computando uma variável\n",
    "\n",
    "Para cada gravidez no conjunto de dados do NSFG, a variável \"agecon\" codifica a idade do entrevistado na concepção e a variável \"agepreg\" a idade do respondente no final da gravidez.\n",
    "\n",
    "Ambas as variáveis são registradas como números inteiros com duas casas decimais implícitas, portanto, o valor 2575 significa que a idade do respondente foi de 25,75.\n",
    "\n",
    "Para arrumar isso é necessário selecionar \"agecon\" e \"agepreg\", dividir por 100 e atribir às variáveis locais agecon e agepreg."
   ]
  },
  {
   "cell_type": "code",
   "execution_count": 8,
   "metadata": {},
   "outputs": [
    {
     "data": {
      "text/plain": [
       "0    2000\n",
       "1    2291\n",
       "2    3241\n",
       "3    3650\n",
       "4    2191\n",
       "Name: agecon, dtype: int64"
      ]
     },
     "execution_count": 8,
     "metadata": {},
     "output_type": "execute_result"
    }
   ],
   "source": [
    "# visualizando as primeiras observações da variável \"agecon\"\n",
    "nsfg['agecon'].head()"
   ]
  },
  {
   "cell_type": "code",
   "execution_count": 9,
   "metadata": {},
   "outputs": [
    {
     "data": {
      "text/plain": [
       "0    2075.0\n",
       "1    2358.0\n",
       "2    3308.0\n",
       "3       NaN\n",
       "4    2266.0\n",
       "Name: agepreg, dtype: float64"
      ]
     },
     "execution_count": 9,
     "metadata": {},
     "output_type": "execute_result"
    }
   ],
   "source": [
    "# visualizando as primeiras observações da variável \"agepreg\"\n",
    "nsfg['agepreg'].head()"
   ]
  },
  {
   "cell_type": "code",
   "execution_count": 10,
   "metadata": {},
   "outputs": [],
   "source": [
    "# selecionando as colunas e dividindo por 100\n",
    "agecon = nsfg['agecon'] / 100\n",
    "agepreg = nsfg['agepreg'] / 100"
   ]
  },
  {
   "cell_type": "code",
   "execution_count": 11,
   "metadata": {},
   "outputs": [
    {
     "data": {
      "text/plain": [
       "0    20.00\n",
       "1    22.91\n",
       "2    32.41\n",
       "3    36.50\n",
       "4    21.91\n",
       "Name: agecon, dtype: float64"
      ]
     },
     "execution_count": 11,
     "metadata": {},
     "output_type": "execute_result"
    }
   ],
   "source": [
    "# visualizando as primeiras observações da variável \"agecon\"\n",
    "agecon.head()"
   ]
  },
  {
   "cell_type": "code",
   "execution_count": 12,
   "metadata": {},
   "outputs": [
    {
     "data": {
      "text/plain": [
       "0    20.75\n",
       "1    23.58\n",
       "2    33.08\n",
       "3      NaN\n",
       "4    22.66\n",
       "Name: agepreg, dtype: float64"
      ]
     },
     "execution_count": 12,
     "metadata": {},
     "output_type": "execute_result"
    }
   ],
   "source": [
    "# visualizando as primeiras observações da variável \"agepreg\"\n",
    "agepreg.head()"
   ]
  },
  {
   "cell_type": "markdown",
   "metadata": {},
   "source": [
    "Calcularei a estimativa da duração da gravidez, tendo em mente que para cada gravidez o agepreg será maior que o agecon."
   ]
  },
  {
   "cell_type": "code",
   "execution_count": 13,
   "metadata": {},
   "outputs": [],
   "source": [
    "# computando a diferença\n",
    "preg_length = agepreg - agecon"
   ]
  },
  {
   "cell_type": "code",
   "execution_count": 14,
   "metadata": {},
   "outputs": [
    {
     "data": {
      "text/plain": [
       "0    0.75\n",
       "1    0.67\n",
       "2    0.67\n",
       "3     NaN\n",
       "4    0.75\n",
       "dtype: float64"
      ]
     },
     "execution_count": 14,
     "metadata": {},
     "output_type": "execute_result"
    }
   ],
   "source": [
    "# visualizando as primeiras observações da variável \"preg_length\"\n",
    "preg_length.head()"
   ]
  },
  {
   "cell_type": "markdown",
   "metadata": {},
   "source": [
    "Usando o .describe() para calcular a duração média e outras estatísticas."
   ]
  },
  {
   "cell_type": "code",
   "execution_count": 15,
   "metadata": {},
   "outputs": [
    {
     "name": "stdout",
     "output_type": "stream",
     "text": [
      "count    9109.000000\n",
      "mean        0.552069\n",
      "std         0.271479\n",
      "min         0.000000\n",
      "25%         0.250000\n",
      "50%         0.670000\n",
      "75%         0.750000\n",
      "max         0.920000\n",
      "dtype: float64\n"
     ]
    }
   ],
   "source": [
    "# computando o sumário estatístico\n",
    "print(preg_length.describe())"
   ]
  },
  {
   "cell_type": "markdown",
   "metadata": {},
   "source": [
    "Uma variável que é calculada a partir de outras variáveis é às vezes chamada de 'recode'. Agora é hora de voltar à pergunta motivadora para esta parte do código: qual é o peso médio dos bebês ao nascer nos EUA?"
   ]
  },
  {
   "cell_type": "markdown",
   "metadata": {},
   "source": [
    "#### 1.6) Fazendo histogramas\n",
    "\n",
    "Histogramas são úteis na análise exploratória de dados. Eles rapidamente fornecem uma visão geral da distribuição de uma variável, ou seja, quais valores a variável pode ter e quantas vezes cada valor aparece.\n",
    "\n",
    "Como vimos em um exercício anterior, o conjunto de dados NSFG inclui uma variável 'agecon' que registra a idade na concepção de cada gravidez. Aqui vou fazer um histograma dessa variável, usarei o parâmetro bins e o histtype - sobre o qual você pode ler mais aqui na documentação do matplotlib (https://matplotlib.org/api/_as_gen/matplotlib.pyplot.hist.html). Se você quiser saber mais sobre o matplotlib, você pode conferir no seguinte link: https://matplotlib.org/"
   ]
  },
  {
   "cell_type": "code",
   "execution_count": 16,
   "metadata": {},
   "outputs": [
    {
     "data": {
      "image/png": "[encoded data removed]",
      "text/plain": [
       "<Figure size 432x288 with 1 Axes>"
      ]
     },
     "metadata": {
      "needs_background": "light"
     },
     "output_type": "display_data"
    }
   ],
   "source": [
    "# módulo necessário\n",
    "import matplotlib.pyplot as plt\n",
    "\n",
    "# plotando o histograma\n",
    "plt.hist(agecon, bins=20)\n",
    "\n",
    "# rótulos dos eixos\n",
    "plt.xlabel('Idade na concepção')\n",
    "plt.ylabel('Frequência de gravidez')\n",
    "\n",
    "# visualizando o histograma\n",
    "plt.show()"
   ]
  },
  {
   "cell_type": "markdown",
   "metadata": {},
   "source": [
    "#### 1.7) Computando o peso no nascimento\n",
    "\n",
    "Agora vamos reunir os passos desta primeira parte do código para calcular o peso médio dos bebês ao nascer, quando a gestação ocorreu acima de 37 semanas.\n",
    "\n",
    "Eu forneci uma função, resample_rows_weighted, que pega os dados NSFG e os reamostra usando os pesos de amostragem em wgt2013_2015. O resultado é uma amostra representativa da população dos EUA.\n",
    "\n",
    "Então eu extraio birthwgt_lb1 e birthwgt_oz1, substituindo códigos especiais por NaN, e calculo o peso total ao nascer."
   ]
  },
  {
   "cell_type": "code",
   "execution_count": 17,
   "metadata": {},
   "outputs": [
    {
     "name": "stdout",
     "output_type": "stream",
     "text": [
      "7.372323879231473\n"
     ]
    }
   ],
   "source": [
    "# limpando as variáveis de peso\n",
    "pounds = nsfg['birthwgt_lb1'].replace([98, 99], np.nan)\n",
    "ounces = nsfg['birthwgt_oz1'].replace([98, 99], np.nan)\n",
    "\n",
    "# computando o peso total em kg (16 lb = 1kg)\n",
    "birth_weight = pounds + ounces/16\n",
    "\n",
    "# criando uma variável booleana dos bebês que nasceram de uma gestação acima de 37 semanas\n",
    "full_term = nsfg['prglngth'] >= 37\n",
    "\n",
    "# selecionando os bebês de gestação acima de 37 semanas\n",
    "full_term_weight = birth_weight[full_term]\n",
    "\n",
    "# computando a média de peso em kg\n",
    "print(full_term_weight.mean())"
   ]
  },
  {
   "cell_type": "markdown",
   "metadata": {},
   "source": [
    "#### 1.8) Filtro\n",
    "\n",
    "No exercício anterior calculei a média do peso para bebês nascidos acima de 37 semanas, filtrei bebês prematuros porque a distribuição de peso é diferente.\n",
    "\n",
    "A distribuição de peso também é diferente para nascimentos múltiplos, como gêmeos e trigêmeos. Neste exercício, filtrei esses para vermos o efeito que isso tem na média."
   ]
  },
  {
   "cell_type": "code",
   "execution_count": 18,
   "metadata": {},
   "outputs": [
    {
     "name": "stdout",
     "output_type": "stream",
     "text": [
      "Média: 7.385643450184502\n"
     ]
    }
   ],
   "source": [
    "# filtrando bebês que nasceram sem irmão gêmeo\n",
    "single = nsfg['nbrnaliv'] == 1\n",
    "\n",
    "# computando o peso de bebês que nasceram SEM irmão gêmeo e acima de 37 semanas\n",
    "single_full_term_weight = birth_weight[single & full_term]\n",
    "print('Média:', single_full_term_weight.mean())"
   ]
  },
  {
   "cell_type": "code",
   "execution_count": 19,
   "metadata": {},
   "outputs": [
    {
     "name": "stdout",
     "output_type": "stream",
     "text": [
      "Média: 5.768055555555556\n"
     ]
    }
   ],
   "source": [
    "# computando o peso de bebês que nasceram COM irmão gêmeo e acima de 37 semanas\n",
    "mult_full_term_weight = birth_weight[~single & full_term]\n",
    "print('Média:', mult_full_term_weight.mean())"
   ]
  },
  {
   "cell_type": "markdown",
   "metadata": {},
   "source": [
    "Agora que temos dados limpos, estamos prontos para explorar. Na parte do 2 do código, veremos as distribuições de variáveis no NSFG e exploraremos a relação entre educação e rendimento."
   ]
  },
  {
   "cell_type": "markdown",
   "metadata": {},
   "source": [
    "### 2) Distribuições\n",
    "\n",
    "No primeira parte do código, depois de limpar e validar os dados, comecei a explorá-los usando histogramas para visualizar as distribuições. Agora vou mostrar como representar distribuições usando \"Probability Mass Functions  (PMFs)\" e \"Cumulative Distribution Functions (CDFs)\". Mostrarei quando usar cada um deles e por que.\n",
    "\n",
    "Nessa segunda parte do código irei trabalhar com um novo conjunto de dados obtido do \"General Social Survey (GSS)\" (link: https://gss.norc.org/), no qual é uma pesquisa anual, que desde de 1972, conta com uma amostra representativa da população adulta dos EUA e que coleta dados sobre demografia e opiniões sobre política e sociedade. A pesquisa possui muitas variáveis, por isso foram selecionadas algumas variáveis no qual já foram validadas."
   ]
  },
  {
   "cell_type": "markdown",
   "metadata": {},
   "source": [
    "#### 2.1) PMF\n",
    "\n",
    "O conjunto de dados do GSS será carregado um data frame chamado \"gss\".\n",
    "\n",
    "Neste exercício, me concentrarei na variável \"year\" neste conjunto de dados, que representa o ano em que cada entrevistado foi entrevistado."
   ]
  },
  {
   "cell_type": "code",
   "execution_count": 20,
   "metadata": {
    "scrolled": false
   },
   "outputs": [
    {
     "data": {
      "text/html": [
       "<div>\n",
       "<style scoped>\n",
       "    .dataframe tbody tr th:only-of-type {\n",
       "        vertical-align: middle;\n",
       "    }\n",
       "\n",
       "    .dataframe tbody tr th {\n",
       "        vertical-align: top;\n",
       "    }\n",
       "\n",
       "    .dataframe thead th {\n",
       "        text-align: right;\n",
       "    }\n",
       "</style>\n",
       "<table border=\"1\" class=\"dataframe\">\n",
       "  <thead>\n",
       "    <tr style=\"text-align: right;\">\n",
       "      <th></th>\n",
       "      <th>year</th>\n",
       "      <th>age</th>\n",
       "      <th>cohort</th>\n",
       "      <th>sex</th>\n",
       "      <th>race</th>\n",
       "      <th>educ</th>\n",
       "      <th>realinc</th>\n",
       "      <th>gunlaw</th>\n",
       "      <th>grass</th>\n",
       "      <th>wtssall</th>\n",
       "    </tr>\n",
       "  </thead>\n",
       "  <tbody>\n",
       "    <tr>\n",
       "      <th>0</th>\n",
       "      <td>1972</td>\n",
       "      <td>26.0</td>\n",
       "      <td>1946.0</td>\n",
       "      <td>1</td>\n",
       "      <td>1</td>\n",
       "      <td>18.0</td>\n",
       "      <td>13537.0</td>\n",
       "      <td>2.0</td>\n",
       "      <td>NaN</td>\n",
       "      <td>0.8893</td>\n",
       "    </tr>\n",
       "    <tr>\n",
       "      <th>1</th>\n",
       "      <td>1972</td>\n",
       "      <td>38.0</td>\n",
       "      <td>1934.0</td>\n",
       "      <td>2</td>\n",
       "      <td>1</td>\n",
       "      <td>12.0</td>\n",
       "      <td>18951.0</td>\n",
       "      <td>1.0</td>\n",
       "      <td>NaN</td>\n",
       "      <td>0.4446</td>\n",
       "    </tr>\n",
       "    <tr>\n",
       "      <th>2</th>\n",
       "      <td>1972</td>\n",
       "      <td>57.0</td>\n",
       "      <td>1915.0</td>\n",
       "      <td>1</td>\n",
       "      <td>1</td>\n",
       "      <td>12.0</td>\n",
       "      <td>30458.0</td>\n",
       "      <td>1.0</td>\n",
       "      <td>NaN</td>\n",
       "      <td>1.3339</td>\n",
       "    </tr>\n",
       "    <tr>\n",
       "      <th>3</th>\n",
       "      <td>1972</td>\n",
       "      <td>61.0</td>\n",
       "      <td>1911.0</td>\n",
       "      <td>2</td>\n",
       "      <td>1</td>\n",
       "      <td>14.0</td>\n",
       "      <td>37226.0</td>\n",
       "      <td>1.0</td>\n",
       "      <td>NaN</td>\n",
       "      <td>0.8893</td>\n",
       "    </tr>\n",
       "    <tr>\n",
       "      <th>4</th>\n",
       "      <td>1972</td>\n",
       "      <td>59.0</td>\n",
       "      <td>1913.0</td>\n",
       "      <td>1</td>\n",
       "      <td>1</td>\n",
       "      <td>12.0</td>\n",
       "      <td>30458.0</td>\n",
       "      <td>2.0</td>\n",
       "      <td>NaN</td>\n",
       "      <td>0.8893</td>\n",
       "    </tr>\n",
       "  </tbody>\n",
       "</table>\n",
       "</div>"
      ],
      "text/plain": [
       "   year   age  cohort  sex  race  educ  realinc  gunlaw  grass  wtssall\n",
       "0  1972  26.0  1946.0    1     1  18.0  13537.0     2.0    NaN   0.8893\n",
       "1  1972  38.0  1934.0    2     1  12.0  18951.0     1.0    NaN   0.4446\n",
       "2  1972  57.0  1915.0    1     1  12.0  30458.0     1.0    NaN   1.3339\n",
       "3  1972  61.0  1911.0    2     1  14.0  37226.0     1.0    NaN   0.8893\n",
       "4  1972  59.0  1913.0    1     1  12.0  30458.0     2.0    NaN   0.8893"
      ]
     },
     "execution_count": 20,
     "metadata": {},
     "output_type": "execute_result"
    }
   ],
   "source": [
    "# carregando os dados do GSS\n",
    "gss = pd.read_hdf('gss.hdf5', 'gss')\n",
    "\n",
    "# visualizando as primeiras observações\n",
    "gss.head()"
   ]
  },
  {
   "cell_type": "markdown",
   "metadata": {},
   "source": [
    "Em estatística, a função massa de probabilidade é uma função que associa a cada possível ocorrência de uma variável aleatória discreta uma probabilidade."
   ]
  },
  {
   "cell_type": "code",
   "execution_count": 21,
   "metadata": {},
   "outputs": [],
   "source": [
    "# criando função de PMF\n",
    "def PMF(x):\n",
    "    df = pd.DataFrame()\n",
    "    df['count'] = x.value_counts()\n",
    "    df['item_counts'] = df.index\n",
    "    df['PMF'] = df['count'] / df['count'].sum()\n",
    "    return df"
   ]
  },
  {
   "cell_type": "code",
   "execution_count": 22,
   "metadata": {},
   "outputs": [
    {
     "data": {
      "text/html": [
       "<div>\n",
       "<style scoped>\n",
       "    .dataframe tbody tr th:only-of-type {\n",
       "        vertical-align: middle;\n",
       "    }\n",
       "\n",
       "    .dataframe tbody tr th {\n",
       "        vertical-align: top;\n",
       "    }\n",
       "\n",
       "    .dataframe thead th {\n",
       "        text-align: right;\n",
       "    }\n",
       "</style>\n",
       "<table border=\"1\" class=\"dataframe\">\n",
       "  <thead>\n",
       "    <tr style=\"text-align: right;\">\n",
       "      <th></th>\n",
       "      <th>count</th>\n",
       "      <th>item_counts</th>\n",
       "      <th>PMF</th>\n",
       "    </tr>\n",
       "  </thead>\n",
       "  <tbody>\n",
       "    <tr>\n",
       "      <th>2006</th>\n",
       "      <td>4510</td>\n",
       "      <td>2006</td>\n",
       "      <td>0.072199</td>\n",
       "    </tr>\n",
       "    <tr>\n",
       "      <th>1994</th>\n",
       "      <td>2992</td>\n",
       "      <td>1994</td>\n",
       "      <td>0.047898</td>\n",
       "    </tr>\n",
       "    <tr>\n",
       "      <th>1996</th>\n",
       "      <td>2904</td>\n",
       "      <td>1996</td>\n",
       "      <td>0.046489</td>\n",
       "    </tr>\n",
       "    <tr>\n",
       "      <th>2016</th>\n",
       "      <td>2867</td>\n",
       "      <td>2016</td>\n",
       "      <td>0.045897</td>\n",
       "    </tr>\n",
       "    <tr>\n",
       "      <th>1998</th>\n",
       "      <td>2832</td>\n",
       "      <td>1998</td>\n",
       "      <td>0.045337</td>\n",
       "    </tr>\n",
       "  </tbody>\n",
       "</table>\n",
       "</div>"
      ],
      "text/plain": [
       "      count  item_counts       PMF\n",
       "2006   4510         2006  0.072199\n",
       "1994   2992         1994  0.047898\n",
       "1996   2904         1996  0.046489\n",
       "2016   2867         2016  0.045897\n",
       "1998   2832         1998  0.045337"
      ]
     },
     "execution_count": 22,
     "metadata": {},
     "output_type": "execute_result"
    }
   ],
   "source": [
    "# PMF do ano\n",
    "gss_year_pmf = PMF(gss['year'])\n",
    "\n",
    "# visualizando primeiras observações\n",
    "gss_year_pmf.head()"
   ]
  },
  {
   "cell_type": "code",
   "execution_count": 23,
   "metadata": {
    "scrolled": false
   },
   "outputs": [
    {
     "data": {
      "image/png": "[encoded data removed]",
      "text/plain": [
       "<Figure size 432x288 with 1 Axes>"
      ]
     },
     "metadata": {
      "needs_background": "light"
     },
     "output_type": "display_data"
    }
   ],
   "source": [
    "# plotando o histograma da PMF\n",
    "plt.bar(gss_year_pmf['item_counts'], gss_year_pmf['PMF'])\n",
    "plt.xlabel('Ano')\n",
    "plt.ylabel('PMF')\n",
    "plt.show()"
   ]
  },
  {
   "cell_type": "code",
   "execution_count": 24,
   "metadata": {
    "scrolled": true
   },
   "outputs": [
    {
     "data": {
      "image/png": "[encoded data removed]",
      "text/plain": [
       "<Figure size 432x288 with 1 Axes>"
      ]
     },
     "metadata": {
      "needs_background": "light"
     },
     "output_type": "display_data"
    }
   ],
   "source": [
    "# plotando o histograma por ocorrência\n",
    "plt.bar(gss_year_pmf['item_counts'], gss_year_pmf['count'])\n",
    "plt.xlabel('Ano')\n",
    "plt.ylabel('Frequência')\n",
    "plt.show()"
   ]
  },
  {
   "cell_type": "markdown",
   "metadata": {},
   "source": [
    "Quantas pessoas foram entrevistados em 2016?"
   ]
  },
  {
   "cell_type": "code",
   "execution_count": 25,
   "metadata": {},
   "outputs": [
    {
     "data": {
      "text/html": [
       "<div>\n",
       "<style scoped>\n",
       "    .dataframe tbody tr th:only-of-type {\n",
       "        vertical-align: middle;\n",
       "    }\n",
       "\n",
       "    .dataframe tbody tr th {\n",
       "        vertical-align: top;\n",
       "    }\n",
       "\n",
       "    .dataframe thead th {\n",
       "        text-align: right;\n",
       "    }\n",
       "</style>\n",
       "<table border=\"1\" class=\"dataframe\">\n",
       "  <thead>\n",
       "    <tr style=\"text-align: right;\">\n",
       "      <th></th>\n",
       "      <th>count</th>\n",
       "      <th>item_counts</th>\n",
       "      <th>PMF</th>\n",
       "    </tr>\n",
       "  </thead>\n",
       "  <tbody>\n",
       "    <tr>\n",
       "      <th>2016</th>\n",
       "      <td>2867</td>\n",
       "      <td>2016</td>\n",
       "      <td>0.045897</td>\n",
       "    </tr>\n",
       "  </tbody>\n",
       "</table>\n",
       "</div>"
      ],
      "text/plain": [
       "      count  item_counts       PMF\n",
       "2016   2867         2016  0.045897"
      ]
     },
     "execution_count": 25,
     "metadata": {},
     "output_type": "execute_result"
    }
   ],
   "source": [
    "gss_year_pmf[(gss_year_pmf.item_counts == 2016)]"
   ]
  },
  {
   "cell_type": "markdown",
   "metadata": {},
   "source": [
    "O exemplo anterior evidencia como a PMF facilita a obtenção de insights. Hora de visualizar o PMF para a variável de idade deste conjunto de dados do GSS!"
   ]
  },
  {
   "cell_type": "code",
   "execution_count": 26,
   "metadata": {},
   "outputs": [
    {
     "data": {
      "image/png": "[encoded data removed]",
      "text/plain": [
       "<Figure size 432x288 with 1 Axes>"
      ]
     },
     "metadata": {
      "needs_background": "light"
     },
     "output_type": "display_data"
    }
   ],
   "source": [
    "# PMF da idade\n",
    "gss_age_pmf = PMF(gss['age'])\n",
    "\n",
    "# plotando o histograma da PMF\n",
    "plt.bar(gss_age_pmf['item_counts'], gss_age_pmf['PMF'])\n",
    "plt.xlabel('Idade')\n",
    "plt.ylabel('PMF')\n",
    "plt.show()"
   ]
  },
  {
   "cell_type": "markdown",
   "metadata": {},
   "source": [
    "#### 2.2) CDF\n",
    "\n",
    "A CDF é a probabilidade acumulada da PMF, ele é útil para encontrar probabilidades menores ou maiores de um determinado valor. "
   ]
  },
  {
   "cell_type": "code",
   "execution_count": 27,
   "metadata": {},
   "outputs": [],
   "source": [
    "# criando função da CDF\n",
    "def CDF(x):\n",
    "    df = pd.DataFrame()\n",
    "    df['count'] = x.value_counts()\n",
    "    df['item_counts'] = df.index\n",
    "    df = df.sort_values(by='item_counts')\n",
    "    df['PMF'] = df['count'] / df['count'].sum()\n",
    "    df['CDF'] = df['PMF'].cumsum()\n",
    "    return df"
   ]
  },
  {
   "cell_type": "code",
   "execution_count": 28,
   "metadata": {
    "scrolled": true
   },
   "outputs": [
    {
     "data": {
      "text/html": [
       "<div>\n",
       "<style scoped>\n",
       "    .dataframe tbody tr th:only-of-type {\n",
       "        vertical-align: middle;\n",
       "    }\n",
       "\n",
       "    .dataframe tbody tr th {\n",
       "        vertical-align: top;\n",
       "    }\n",
       "\n",
       "    .dataframe thead th {\n",
       "        text-align: right;\n",
       "    }\n",
       "</style>\n",
       "<table border=\"1\" class=\"dataframe\">\n",
       "  <thead>\n",
       "    <tr style=\"text-align: right;\">\n",
       "      <th></th>\n",
       "      <th>count</th>\n",
       "      <th>item_counts</th>\n",
       "      <th>PMF</th>\n",
       "      <th>CDF</th>\n",
       "    </tr>\n",
       "  </thead>\n",
       "  <tbody>\n",
       "    <tr>\n",
       "      <th>18.0</th>\n",
       "      <td>350</td>\n",
       "      <td>18.0</td>\n",
       "      <td>0.005620</td>\n",
       "      <td>0.005620</td>\n",
       "    </tr>\n",
       "    <tr>\n",
       "      <th>19.0</th>\n",
       "      <td>1238</td>\n",
       "      <td>19.0</td>\n",
       "      <td>0.019878</td>\n",
       "      <td>0.025497</td>\n",
       "    </tr>\n",
       "    <tr>\n",
       "      <th>20.0</th>\n",
       "      <td>1128</td>\n",
       "      <td>20.0</td>\n",
       "      <td>0.018111</td>\n",
       "      <td>0.043609</td>\n",
       "    </tr>\n",
       "    <tr>\n",
       "      <th>21.0</th>\n",
       "      <td>1197</td>\n",
       "      <td>21.0</td>\n",
       "      <td>0.019219</td>\n",
       "      <td>0.062828</td>\n",
       "    </tr>\n",
       "    <tr>\n",
       "      <th>22.0</th>\n",
       "      <td>1261</td>\n",
       "      <td>22.0</td>\n",
       "      <td>0.020247</td>\n",
       "      <td>0.083075</td>\n",
       "    </tr>\n",
       "  </tbody>\n",
       "</table>\n",
       "</div>"
      ],
      "text/plain": [
       "      count  item_counts       PMF       CDF\n",
       "18.0    350         18.0  0.005620  0.005620\n",
       "19.0   1238         19.0  0.019878  0.025497\n",
       "20.0   1128         20.0  0.018111  0.043609\n",
       "21.0   1197         21.0  0.019219  0.062828\n",
       "22.0   1261         22.0  0.020247  0.083075"
      ]
     },
     "execution_count": 28,
     "metadata": {},
     "output_type": "execute_result"
    }
   ],
   "source": [
    "# CDF da idade\n",
    "gss_age_cdf = CDF(gss['age'])\n",
    "\n",
    "# visualizando primeiras observações\n",
    "gss_age_cdf.head()"
   ]
  },
  {
   "cell_type": "code",
   "execution_count": 29,
   "metadata": {
    "scrolled": true
   },
   "outputs": [
    {
     "data": {
      "image/png": "[encoded data removed]",
      "text/plain": [
       "<Figure size 432x288 with 1 Axes>"
      ]
     },
     "metadata": {
      "needs_background": "light"
     },
     "output_type": "display_data"
    }
   ],
   "source": [
    "# plotando o histograma da CDF\n",
    "plt.bar(gss_age_cdf['item_counts'], gss_age_cdf['CDF'])\n",
    "plt.xlabel('Idade')\n",
    "plt.ylabel('CDF')\n",
    "plt.show()"
   ]
  },
  {
   "cell_type": "markdown",
   "metadata": {},
   "source": [
    "# Em construção ;*"
   ]
  }
 ],
 "metadata": {
  "kernelspec": {
   "display_name": "Python 3",
   "language": "python",
   "name": "python3"
  },
  "language_info": {
   "codemirror_mode": {
    "name": "ipython",
    "version": 3
   },
   "file_extension": ".py",
   "mimetype": "text/x-python",
   "name": "python",
   "nbconvert_exporter": "python",
   "pygments_lexer": "ipython3",
   "version": "3.7.3"
  }
 },
 "nbformat": 4,
 "nbformat_minor": 2
}
